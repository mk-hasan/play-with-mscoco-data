{
 "cells": [
  {
   "cell_type": "code",
   "execution_count": 1,
   "metadata": {},
   "outputs": [],
   "source": [
    "from __future__ import absolute_import\n",
    "from __future__ import division\n",
    "from __future__ import print_function"
   ]
  },
  {
   "cell_type": "code",
   "execution_count": 2,
   "metadata": {},
   "outputs": [],
   "source": [
    "from pycocotools.coco import COCO"
   ]
  },
  {
   "cell_type": "code",
   "execution_count": 3,
   "metadata": {},
   "outputs": [],
   "source": [
    "from PIL import Image"
   ]
  },
  {
   "cell_type": "code",
   "execution_count": 4,
   "metadata": {},
   "outputs": [],
   "source": [
    "from random import shuffle\n",
    "import os, sys\n",
    "import numpy as np\n",
    "import tensorflow as tf\n",
    "import logging"
   ]
  },
  {
   "cell_type": "code",
   "execution_count": 5,
   "metadata": {},
   "outputs": [],
   "source": [
    "import dataset_util"
   ]
  },
  {
   "cell_type": "code",
   "execution_count": 6,
   "metadata": {},
   "outputs": [],
   "source": [
    "imgs_dir =\"\"\n",
    "cset = \"train\"\n",
    "output_filepath = \"\"\n",
    "shuffle_imgs = True\n"
   ]
  },
  {
   "cell_type": "code",
   "execution_count": null,
   "metadata": {},
   "outputs": [],
   "source": [
    "def load_coco_dection_dataset(imgs_dir, annotations_filepath, shuffle_img = True ):\n",
    "    \"\"\"Load data from dataset by pycocotools. This tools can be download from \"http://mscoco.org/dataset/#download\"\n",
    "    Args:\n",
    "        imgs_dir: directories of coco images\n",
    "        annotations_filepath: file path of coco annotations file\n",
    "        shuffle_img: wheter to shuffle images order\n",
    "    Return:\n",
    "        coco_data: list of dictionary format information of each image\n",
    "    \"\"\"\n",
    "    coco = COCO(annotations_filepath)\n",
    "    img_ids = coco.getImgIds() # totally 82783 images\n",
    "    cat_ids = coco.getCatIds() # totally 90 catagories, however, the number of categories is not continuous, \\\n",
    "                               # [0,12,26,29,30,45,66,68,69,71,83] are missing, this is the problem of coco dataset.\n",
    "\n",
    "    if shuffle_img:\n",
    "        shuffle(img_ids)\n",
    "\n",
    "    coco_data = []\n",
    "\n",
    "    nb_imgs = len(img_ids)\n",
    "    for index, img_id in enumerate(img_ids):\n",
    "        if index % 100 == 0:\n",
    "            print(\"Readling images: %d / %d \"%(index, nb_imgs))\n",
    "        img_info = {}\n",
    "        bboxes = []\n",
    "        labels = []\n",
    "\n",
    "        img_detail = coco.loadImgs(img_id)[0]\n",
    "        pic_height = img_detail['height']\n",
    "        pic_width = img_detail['width']\n",
    "\n",
    "        ann_ids = coco.getAnnIds(imgIds=img_id,catIds=cat_ids)\n",
    "        anns = coco.loadAnns(ann_ids)\n",
    "        LABELS_NEED= {1,2,3,4,6,7,8,10,12,13}\n",
    "\n",
    "        for ann in anns:\n",
    "            category_id = ann[\"category_id\"]\n",
    "            if not category_id in LABELS_NEED:\n",
    "                continue\n",
    "\n",
    "            bboxes_data = ann['bbox']\n",
    "            bboxes_data = [bboxes_data[0]/float(pic_width), bboxes_data[1]/float(pic_height),\\\n",
    "                                  bboxes_data[2]/float(pic_width), bboxes_data[3]/float(pic_height)]\n",
    "                         # the format of coco bounding boxs is [Xmin, Ymin, width, height]\n",
    "            bboxes.append(bboxes_data)\n",
    "            #labels.append(ann['category_id'])\n",
    "\n",
    "            if category_id in range(1,5):\n",
    "                labels.append(category_id)\n",
    "            elif category_id == 6:\n",
    "                labels.append(5)\n",
    "            elif category_id == 7:\n",
    "                labels.append(6)\n",
    "            elif category_id == 8:\n",
    "                labels.append(7);\n",
    "            elif category_id == 10:\n",
    "                labels.append(8)\n",
    "            elif category_id == 12:\n",
    "                labels.append(9)\n",
    "            elif category_id == 13:\n",
    "                labels.append(10)\n",
    "        \n",
    "\tif len(labels) == 0:\n",
    "\t    continue\n",
    "\n",
    "        img_path = os.path.join(imgs_dir, img_detail['file_name'])\n",
    "        img_bytes = tf.gfile.FastGFile(img_path,'rb').read()\n",
    "\n",
    "        img_info['pixel_data'] = img_bytes\n",
    "        img_info['height'] = pic_height\n",
    "        img_info['width'] = pic_width\n",
    "        img_info['bboxes'] = bboxes\n",
    "        img_info['labels'] = labels\n",
    "\n",
    "        coco_data.append(img_info)\n",
    "    return coco_data\n",
    "            "
   ]
  }
 ],
 "metadata": {
  "kernelspec": {
   "display_name": "Python 3",
   "language": "python",
   "name": "python3"
  },
  "language_info": {
   "codemirror_mode": {
    "name": "ipython",
    "version": 3
   },
   "file_extension": ".py",
   "mimetype": "text/x-python",
   "name": "python",
   "nbconvert_exporter": "python",
   "pygments_lexer": "ipython3",
   "version": "3.6.0"
  }
 },
 "nbformat": 4,
 "nbformat_minor": 2
}
